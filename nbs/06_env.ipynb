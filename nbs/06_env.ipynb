{
 "cells": [
  {
   "attachments": {},
   "cell_type": "markdown",
   "metadata": {},
   "source": [
    "# Environment\n",
    "\n",
    "> Fill in a module description here"
   ]
  },
  {
   "cell_type": "code",
   "execution_count": null,
   "metadata": {},
   "outputs": [],
   "source": [
    "# | default_exp env"
   ]
  },
  {
   "cell_type": "code",
   "execution_count": null,
   "metadata": {},
   "outputs": [],
   "source": [
    "# | hide\n",
    "from nbdev.showdoc import *"
   ]
  },
  {
   "cell_type": "code",
   "execution_count": null,
   "metadata": {},
   "outputs": [],
   "source": [
    "#| export\n",
    "import numpy as np"
   ]
  },
  {
   "cell_type": "code",
   "execution_count": null,
   "metadata": {},
   "outputs": [],
   "source": [
    "PICK_TARGETS = {\n",
    "    \"blue block\": None,\n",
    "    \"red block\": None,\n",
    "    \"green block\": None,\n",
    "    \"yellow block\": None,\n",
    "}\n",
    "\n",
    "COLORS = {\n",
    "    \"blue\":   (78/255,  121/255, 167/255, 255/255),\n",
    "    \"red\":    (255/255,  87/255,  89/255, 255/255),\n",
    "    \"green\":  (89/255,  169/255,  79/255, 255/255),\n",
    "    \"yellow\": (237/255, 201/255,  72/255, 255/255),\n",
    "}\n",
    "\n",
    "PLACE_TARGETS = {\n",
    "    \"blue block\": None,\n",
    "    \"red block\": None,\n",
    "    \"green block\": None,\n",
    "    \"yellow block\": None,\n",
    "\n",
    "    \"blue bowl\": None,\n",
    "    \"red bowl\": None,\n",
    "    \"green bowl\": None,\n",
    "    \"yellow bowl\": None,\n",
    "\n",
    "    \"top left corner\":     (-0.3 + 0.05, -0.2 - 0.05, 0),\n",
    "    \"top right corner\":    (0.3 - 0.05,  -0.2 - 0.05, 0),\n",
    "    \"middle\":              (0,           -0.5,        0),\n",
    "    \"bottom left corner\":  (-0.3 + 0.05, -0.8 + 0.05, 0),\n",
    "    \"bottom right corner\": (0.3 - 0.05,  -0.8 + 0.05, 0),\n",
    "}\n",
    "\n",
    "PIXEL_SIZE = 0.00267857\n",
    "BOUNDS = np.float32([[-0.3, 0.3], [-0.8, -0.2], [0, 0.15]])  # X Y Z\n"
   ]
  },
  {
   "cell_type": "code",
   "execution_count": null,
   "metadata": {},
   "outputs": [],
   "source": [
    "#| hide\n",
    "import nbdev; nbdev.nbdev_export()"
   ]
  }
 ],
 "metadata": {
  "kernelspec": {
   "display_name": "env",
   "language": "python",
   "name": "python3"
  }
 },
 "nbformat": 4,
 "nbformat_minor": 2
}
